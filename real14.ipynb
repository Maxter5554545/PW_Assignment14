{
 "cells": [
  {
   "cell_type": "code",
   "execution_count": 2,
   "id": "9b49aca2-7d31-4d9b-986b-b81fccdcd64e",
   "metadata": {},
   "outputs": [],
   "source": [
    "#1> What is multithreading in python? Why is it used? Name the module used to handle threads in python\n",
    "import logging \n",
    "logging.basicConfig(filename='ass14.log', level=logging.INFO)\n",
    "logging.info(\"Multithreading in python is a running multiple threads in python simultaneously within a single process.\\nIt is used to improve the performance of a program by using multiple CPUs and CPU cores.\\nthreading module is used to handle the mutithreading in python.\")"
   ]
  },
  {
   "cell_type": "code",
   "execution_count": null,
   "id": "59e3c0be-e20a-4606-abc2-a32a26115814",
   "metadata": {},
   "outputs": [],
   "source": [
    "# 2. Why threading module used? Write the use of the following functions\n",
    "# 1.activeCount\n",
    "# 2.currentThread\n",
    "# 3.enumerate\n",
    "logging.info(\"The treading module in python is used to run multiple threads in python simultaneously within a single process.\")\n",
    "logging.info('''1.activeCount => It returns the numbers of thread objects currently active alive.\n",
    "2.currentThread =>Returns the current thread, using caller's thread of control.\n",
    "3.enumerate => Returns the list of all thread objects currently alive.''')"
   ]
  },
  {
   "cell_type": "code",
   "execution_count": null,
   "id": "b946c9d2-580f-4a40-b263-d360979eddfb",
   "metadata": {},
   "outputs": [],
   "source": [
    "# 3. Explain the following functions\n",
    "#1.run\n",
    "#2. start\n",
    "#3. join\n",
    "#4. isAlive\n",
    "logging.info(''' 1.run => This method represents the thread activity.\n",
    "2.start => Starts the tread Activity.\n",
    "3.join => This blocks the calling thread until the thread whose join() method is\n",
    "called terminates -- either normally or through an unhandled exception\n",
    "or until the optional timeout occurs.\n",
    "4.isAlive => This method returns True just before the run() method starts until just\n",
    "after the run() method terminates. See also the module function\n",
    "enumerate().''')"
   ]
  },
  {
   "cell_type": "code",
   "execution_count": 20,
   "id": "4e09078d-3ebf-43ce-96ac-7b3a8c7383d0",
   "metadata": {},
   "outputs": [],
   "source": [
    "import threading"
   ]
  },
  {
   "cell_type": "code",
   "execution_count": 36,
   "id": "852e8afb-5320-4826-88c4-b08748fdb376",
   "metadata": {},
   "outputs": [],
   "source": [
    "# 4. Write a python program to create two threads. Thread one must print the list of squares and thread\n",
    "# two must print the list of cubes\n",
    "sqs = [1, 2, 4, 5]\n",
    "def sq(x):\n",
    "    sr = x**2\n",
    "    logging.info(\"The square of %d is %d\" %(x, sr))\n",
    "def cub(x):\n",
    "    cb = x**3\n",
    "    logging.info(\"The cube of %d is %d\" %(x, cb))\n",
    "tr_sq = [threading.Thread(target=sq, args=(i,)) for i in sqs]\n",
    "tr_cb = [threading.Thread(target=cub, args=(i,)) for i in sqs]\n",
    "\n",
    "for s in tr_sq:\n",
    "    s.start()\n",
    "    \n",
    "for c in tr_cb:\n",
    "    c.start()"
   ]
  },
  {
   "cell_type": "code",
   "execution_count": null,
   "id": "912a5b15-d644-4f8c-bb8a-3af235ce4229",
   "metadata": {},
   "outputs": [],
   "source": [
    "# Q5. State advantages and disadvantages of multithreading\n",
    "logging.info(''' The advantages of Multithreading are: \n",
    "1.Multithreading is used to run multiple threads simultaneously in python within a single process.\n",
    "2.It improves the performance of our programm by using multiple CPU & CPU cores.\n",
    "The Dis-advantages of Multithreading are:\n",
    "1.If your system belongs from low end specs, It might slow down the speed & the performance of your computer or programm\n",
    "2.Multithreading increases complexities of your code.''')"
   ]
  },
  {
   "cell_type": "code",
   "execution_count": null,
   "id": "2172e172-8fce-4af7-add0-bff8208c9504",
   "metadata": {},
   "outputs": [],
   "source": [
    "# 6. Explain deadlocks and race conditions.\n",
    "logging.info(\"Deadlocks are the conditions occurs in python when two thread are dependent on each other to execute by this none of the threads are able to execute & program gets stuck .\\nWhile, Race conditions are the type of conditions in python where depends on timing & sequence of multithreading execution or process. \")"
   ]
  }
 ],
 "metadata": {
  "kernelspec": {
   "display_name": "Python 3 (ipykernel)",
   "language": "python",
   "name": "python3"
  },
  "language_info": {
   "codemirror_mode": {
    "name": "ipython",
    "version": 3
   },
   "file_extension": ".py",
   "mimetype": "text/x-python",
   "name": "python",
   "nbconvert_exporter": "python",
   "pygments_lexer": "ipython3",
   "version": "3.10.8"
  }
 },
 "nbformat": 4,
 "nbformat_minor": 5
}
